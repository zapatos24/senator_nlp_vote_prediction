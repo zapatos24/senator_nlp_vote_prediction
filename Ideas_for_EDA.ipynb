{
 "cells": [
  {
   "cell_type": "markdown",
   "metadata": {},
   "source": [
    "# Ideas for EDA Testing/Analysis"
   ]
  },
  {
   "cell_type": "code",
   "execution_count": 3,
   "metadata": {},
   "outputs": [],
   "source": [
    "import pandas as pd\n",
    "import numpy as np\n",
    "import matplotlib.pyplot as plt\n",
    "%matplotlib inline"
   ]
  },
  {
   "cell_type": "markdown",
   "metadata": {},
   "source": [
    "Election year to party line vote"
   ]
  },
  {
   "cell_type": "markdown",
   "metadata": {},
   "source": [
    "Election year to industry contrib vote"
   ]
  },
  {
   "cell_type": "markdown",
   "metadata": {},
   "source": [
    "count of bill subjects (will need to shorten)"
   ]
  },
  {
   "cell_type": "markdown",
   "metadata": {},
   "source": [
    "count of industry contribs"
   ]
  },
  {
   "cell_type": "markdown",
   "metadata": {},
   "source": [
    "how often does each party vote yay on bill subject"
   ]
  },
  {
   "cell_type": "markdown",
   "metadata": {},
   "source": [
    "how often does each party vote nay on bill subject"
   ]
  },
  {
   "cell_type": "markdown",
   "metadata": {},
   "source": [
    "vote on bill where subject is in industry contrib"
   ]
  },
  {
   "cell_type": "markdown",
   "metadata": {},
   "source": [
    "count of year seniority levels"
   ]
  },
  {
   "cell_type": "markdown",
   "metadata": {},
   "source": [
    "count of bills sponsored by leadership vs. not"
   ]
  },
  {
   "cell_type": "markdown",
   "metadata": {},
   "source": [
    "vote margin of election vs. percent vote with party"
   ]
  },
  {
   "cell_type": "markdown",
   "metadata": {},
   "source": [
    "committee bill started in to members of that committee who voted for it"
   ]
  },
  {
   "cell_type": "markdown",
   "metadata": {},
   "source": [
    "tenure v leadership position, color by party"
   ]
  },
  {
   "cell_type": "markdown",
   "metadata": {},
   "source": [
    "tenure v dw_nominate, color leadership"
   ]
  },
  {
   "cell_type": "markdown",
   "metadata": {},
   "source": [
    "distribution of how party line votes are (buckets for degree of partisanship in bill, 0-1, 10 buckets)"
   ]
  },
  {
   "cell_type": "markdown",
   "metadata": {},
   "source": [
    "how party line is vote v sponsor's party"
   ]
  },
  {
   "cell_type": "markdown",
   "metadata": {},
   "source": [
    "count committee bills pass/fail rate"
   ]
  },
  {
   "cell_type": "markdown",
   "metadata": {},
   "source": [
    "count senator sponsor pass/fail rate"
   ]
  },
  {
   "cell_type": "markdown",
   "metadata": {},
   "source": []
  },
  {
   "cell_type": "markdown",
   "metadata": {},
   "source": []
  },
  {
   "cell_type": "markdown",
   "metadata": {},
   "source": []
  },
  {
   "cell_type": "markdown",
   "metadata": {},
   "source": []
  },
  {
   "cell_type": "markdown",
   "metadata": {},
   "source": []
  },
  {
   "cell_type": "markdown",
   "metadata": {},
   "source": []
  }
 ],
 "metadata": {
  "kernelspec": {
   "display_name": "Python 3",
   "language": "python",
   "name": "python3"
  },
  "language_info": {
   "codemirror_mode": {
    "name": "ipython",
    "version": 3
   },
   "file_extension": ".py",
   "mimetype": "text/x-python",
   "name": "python",
   "nbconvert_exporter": "python",
   "pygments_lexer": "ipython3",
   "version": "3.7.6"
  }
 },
 "nbformat": 4,
 "nbformat_minor": 4
}
