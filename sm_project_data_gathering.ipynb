{
 "cells": [
  {
   "cell_type": "code",
   "execution_count": 1,
   "metadata": {},
   "outputs": [],
   "source": [
    "import pandas as pd\n",
    "import numpy as np\n",
    "import matplotlib.pyplot as plt\n",
    "%matplotlib inline\n",
    "\n",
    "import requests\n",
    "import json\n",
    "\n",
    "import time\n",
    "\n",
    "from crpapi import CRP"
   ]
  },
  {
   "cell_type": "markdown",
   "metadata": {},
   "source": [
    "## Support Functions"
   ]
  },
  {
   "cell_type": "code",
   "execution_count": 2,
   "metadata": {},
   "outputs": [],
   "source": [
    "def get_keys(path):\n",
    "    \"\"\"\n",
    "    Pulls necessary api keys from designated path\n",
    "    \"\"\"\n",
    "    with open(path) as f:\n",
    "        return json.load(f)"
   ]
  },
  {
   "cell_type": "markdown",
   "metadata": {},
   "source": [
    "## ETL"
   ]
  },
  {
   "cell_type": "code",
   "execution_count": 3,
   "metadata": {},
   "outputs": [],
   "source": [
    "current_congress = 116"
   ]
  },
  {
   "cell_type": "markdown",
   "metadata": {},
   "source": [
    "### Voteview"
   ]
  },
  {
   "cell_type": "code",
   "execution_count": 4,
   "metadata": {},
   "outputs": [],
   "source": [
    "def get_voteview_csv_content(content_type, current_congress_num):\n",
    "    '''\n",
    "    Retrieves congress data by content type (passed in) for the 104th Congress to the current Congress today.\n",
    "    \n",
    "    '''\n",
    "    if content_type not in ['votes', 'rollcalls', 'members']:\n",
    "        print('Not a valid content type')\n",
    "        return\n",
    "    \n",
    "    for congress_num in range(104, current_congress_num+1):\n",
    "        #download the vote each member made for each roll call\n",
    "        url = 'https://voteview.com/static/data/out/{}/S{}_{}.csv'.format(content_type, congress_num, content_type)\n",
    "\n",
    "        r = requests.get(url)\n",
    "        content = r.content\n",
    "        file = open('{}/S{}_{}.csv'.format(content_type, congress_num, content_type), 'wb')\n",
    "\n",
    "        file.write(content)\n",
    "        file.close()\n",
    "        \n",
    "        #put in a sleep timer to not overload the voteview servers\n",
    "        time.sleep(1)\n",
    "        \n",
    "    return"
   ]
  },
  {
   "cell_type": "code",
   "execution_count": 18,
   "metadata": {},
   "outputs": [],
   "source": [
    "# get_voteview_csv_content('votes', current_congress)"
   ]
  },
  {
   "cell_type": "code",
   "execution_count": 19,
   "metadata": {},
   "outputs": [],
   "source": [
    "# get_voteview_csv_content('rollcalls', current_congress)"
   ]
  },
  {
   "cell_type": "code",
   "execution_count": 20,
   "metadata": {},
   "outputs": [],
   "source": [
    "# get_voteview_csv_content('members', current_congress)"
   ]
  },
  {
   "cell_type": "markdown",
   "metadata": {},
   "source": [
    "### Open Secrets"
   ]
  },
  {
   "cell_type": "code",
   "execution_count": 5,
   "metadata": {},
   "outputs": [],
   "source": [
    "#get key for open secrets api\n",
    "key_path = \"/Users/flatironschool/.secret/open_secrets_api.json\"\n",
    "keys = get_keys(key_path)\n",
    "\n",
    "api_key = keys['api_key']"
   ]
  },
  {
   "cell_type": "code",
   "execution_count": 6,
   "metadata": {},
   "outputs": [
    {
     "data": {
      "text/plain": [
       "'To use if abstracted library fails me'"
      ]
     },
     "execution_count": 6,
     "metadata": {},
     "output_type": "execute_result"
    }
   ],
   "source": [
    "'''To use if abstracted library fails me'''\n",
    "# url = 'https://www.opensecrets.org/api/?method=candContrib'\n",
    "# method = '?method=candContrib'\n",
    "# params = {'cid' = 'N00003389',\n",
    "#           'cycle' = 2014,\n",
    "#           'output' = 'json'}\n",
    "\n",
    "# r = requests.get(url+method, params=params, "
   ]
  },
  {
   "cell_type": "code",
   "execution_count": 7,
   "metadata": {},
   "outputs": [],
   "source": [
    "crp = CRP(api_key)"
   ]
  },
  {
   "cell_type": "code",
   "execution_count": 8,
   "metadata": {},
   "outputs": [
    {
     "data": {
      "text/plain": [
       "[{'@attributes': {'org_name': 'Blackstone Group',\n",
       "   'total': '184700',\n",
       "   'pacs': '0',\n",
       "   'indivs': '184700'}},\n",
       " {'@attributes': {'org_name': 'Goldman Sachs',\n",
       "   'total': '129025',\n",
       "   'pacs': '10000',\n",
       "   'indivs': '119025'}},\n",
       " {'@attributes': {'org_name': 'Humana Inc',\n",
       "   'total': '104500',\n",
       "   'pacs': '10000',\n",
       "   'indivs': '94500'}},\n",
       " {'@attributes': {'org_name': 'NorPAC',\n",
       "   'total': '100151',\n",
       "   'pacs': '-249',\n",
       "   'indivs': '100400'}},\n",
       " {'@attributes': {'org_name': 'Kindred Healthcare',\n",
       "   'total': '95450',\n",
       "   'pacs': '10000',\n",
       "   'indivs': '85450'}},\n",
       " {'@attributes': {'org_name': 'JPMorgan Chase & Co',\n",
       "   'total': '93075',\n",
       "   'pacs': '10000',\n",
       "   'indivs': '83075'}},\n",
       " {'@attributes': {'org_name': 'Citigroup Inc',\n",
       "   'total': '87100',\n",
       "   'pacs': '10000',\n",
       "   'indivs': '77100'}},\n",
       " {'@attributes': {'org_name': 'Alliance Coal',\n",
       "   'total': '86600',\n",
       "   'pacs': '5000',\n",
       "   'indivs': '81600'}},\n",
       " {'@attributes': {'org_name': 'Votesane PAC',\n",
       "   'total': '82000',\n",
       "   'pacs': '0',\n",
       "   'indivs': '82000'}},\n",
       " {'@attributes': {'org_name': 'DaVita Inc',\n",
       "   'total': '77075',\n",
       "   'pacs': '10000',\n",
       "   'indivs': '67075'}}]"
      ]
     },
     "execution_count": 8,
     "metadata": {},
     "output_type": "execute_result"
    }
   ],
   "source": [
    "contribs = crp.candidates.contrib('N00003389', '2014')\n",
    "contribs"
   ]
  },
  {
   "cell_type": "code",
   "execution_count": 11,
   "metadata": {},
   "outputs": [
    {
     "data": {
      "text/plain": [
       "[{'@attributes': {'industry_code': 'F07',\n",
       "   'industry_name': 'Securities & Investment',\n",
       "   'indivs': '2157107',\n",
       "   'pacs': '270600',\n",
       "   'total': '2427707'}},\n",
       " {'@attributes': {'industry_code': 'W06',\n",
       "   'industry_name': 'Retired',\n",
       "   'indivs': '1447510',\n",
       "   'pacs': '0',\n",
       "   'total': '1447510'}},\n",
       " {'@attributes': {'industry_code': 'E01',\n",
       "   'industry_name': 'Oil & Gas',\n",
       "   'indivs': '728710',\n",
       "   'pacs': '380599',\n",
       "   'total': '1109309'}},\n",
       " {'@attributes': {'industry_code': 'K01',\n",
       "   'industry_name': 'Lawyers/Law Firms',\n",
       "   'indivs': '761864',\n",
       "   'pacs': '304650',\n",
       "   'total': '1066514'}},\n",
       " {'@attributes': {'industry_code': 'H01',\n",
       "   'industry_name': 'Health Professionals',\n",
       "   'indivs': '734995',\n",
       "   'pacs': '289500',\n",
       "   'total': '1024495'}},\n",
       " {'@attributes': {'industry_code': 'F09',\n",
       "   'industry_name': 'Insurance',\n",
       "   'indivs': '647100',\n",
       "   'pacs': '366500',\n",
       "   'total': '1013600'}},\n",
       " {'@attributes': {'industry_code': 'F10',\n",
       "   'industry_name': 'Real Estate',\n",
       "   'indivs': '876975',\n",
       "   'pacs': '109100',\n",
       "   'total': '986075'}},\n",
       " {'@attributes': {'industry_code': 'K02',\n",
       "   'industry_name': 'Lobbyists',\n",
       "   'indivs': '715166',\n",
       "   'pacs': '31144',\n",
       "   'total': '746310'}},\n",
       " {'@attributes': {'industry_code': 'F13',\n",
       "   'industry_name': 'Misc Finance',\n",
       "   'indivs': '616155',\n",
       "   'pacs': '54000',\n",
       "   'total': '670155'}},\n",
       " {'@attributes': {'industry_code': 'F03',\n",
       "   'industry_name': 'Commercial Banks',\n",
       "   'indivs': '413689',\n",
       "   'pacs': '214350',\n",
       "   'total': '628039'}}]"
      ]
     },
     "execution_count": 11,
     "metadata": {},
     "output_type": "execute_result"
    }
   ],
   "source": [
    "industries = crp.candidates.industries('N00003389', '2014')\n",
    "industries"
   ]
  },
  {
   "cell_type": "code",
   "execution_count": 12,
   "metadata": {},
   "outputs": [
    {
     "data": {
      "text/plain": [
       "[{'@attributes': {'sector_name': 'Agribusiness',\n",
       "   'sectorid': 'A',\n",
       "   'indivs': '707620',\n",
       "   'pacs': '531587',\n",
       "   'total': '1239207'}},\n",
       " {'@attributes': {'sector_name': 'Communic/Electronics',\n",
       "   'sectorid': 'B',\n",
       "   'indivs': '683400',\n",
       "   'pacs': '424243',\n",
       "   'total': '1107643'}},\n",
       " {'@attributes': {'sector_name': 'Construction',\n",
       "   'sectorid': 'C',\n",
       "   'indivs': '476426',\n",
       "   'pacs': '192450',\n",
       "   'total': '668876'}},\n",
       " {'@attributes': {'sector_name': 'Defense',\n",
       "   'sectorid': 'D',\n",
       "   'indivs': '68950',\n",
       "   'pacs': '204900',\n",
       "   'total': '273850'}},\n",
       " {'@attributes': {'sector_name': 'Energy/Nat Resource',\n",
       "   'sectorid': 'E',\n",
       "   'indivs': '1282860',\n",
       "   'pacs': '760082',\n",
       "   'total': '2042942'}},\n",
       " {'@attributes': {'sector_name': 'Finance/Insur/RealEst',\n",
       "   'sectorid': 'F',\n",
       "   'indivs': '5123131',\n",
       "   'pacs': '1198450',\n",
       "   'total': '6321581'}},\n",
       " {'@attributes': {'sector_name': 'Health',\n",
       "   'sectorid': 'H',\n",
       "   'indivs': '1691266',\n",
       "   'pacs': '1057523',\n",
       "   'total': '2748789'}},\n",
       " {'@attributes': {'sector_name': 'Lawyers & Lobbyists',\n",
       "   'sectorid': 'K',\n",
       "   'indivs': '1477030',\n",
       "   'pacs': '335794',\n",
       "   'total': '1812824'}},\n",
       " {'@attributes': {'sector_name': 'Transportation',\n",
       "   'sectorid': 'M',\n",
       "   'indivs': '661837',\n",
       "   'pacs': '349629',\n",
       "   'total': '1011466'}},\n",
       " {'@attributes': {'sector_name': 'Misc Business',\n",
       "   'sectorid': 'N',\n",
       "   'indivs': '1686533',\n",
       "   'pacs': '801888',\n",
       "   'total': '2488421'}},\n",
       " {'@attributes': {'sector_name': 'Labor',\n",
       "   'sectorid': 'P',\n",
       "   'indivs': '0',\n",
       "   'pacs': '21000',\n",
       "   'total': '21000'}},\n",
       " {'@attributes': {'sector_name': 'Ideology/Single-Issue',\n",
       "   'sectorid': 'Q',\n",
       "   'indivs': '794178',\n",
       "   'pacs': '640718',\n",
       "   'total': '1434896'}},\n",
       " {'@attributes': {'sector_name': 'Other',\n",
       "   'sectorid': 'W',\n",
       "   'indivs': '1861810',\n",
       "   'pacs': '35208',\n",
       "   'total': '1897018'}}]"
      ]
     },
     "execution_count": 12,
     "metadata": {},
     "output_type": "execute_result"
    }
   ],
   "source": [
    "sector = crp.candidates.sector('N00003389', '2014')\n",
    "sector"
   ]
  },
  {
   "cell_type": "code",
   "execution_count": 10,
   "metadata": {},
   "outputs": [
    {
     "name": "stdout",
     "output_type": "stream",
     "text": [
      "Help on CandidatesClient in module crpapi object:\n",
      "\n",
      "class CandidatesClient(Client)\n",
      " |  CandidatesClient(apikey=None, cache='.cache')\n",
      " |  \n",
      " |  Retrieves and parses information pertaining to current Congressional\n",
      " |  legislators.\n",
      " |  \n",
      " |  Method resolution order:\n",
      " |      CandidatesClient\n",
      " |      Client\n",
      " |      builtins.object\n",
      " |  \n",
      " |  Methods defined here:\n",
      " |  \n",
      " |  contrib(self, cid, cycle=None)\n",
      " |  \n",
      " |  contrib_by_ind(self, cid, industry, cycle=None)\n",
      " |  \n",
      " |  get(self, id_code)\n",
      " |      id_code may be either a candidate's specific CID, or a two letter\n",
      " |      state code, or a four character district code.\n",
      " |  \n",
      " |  industries(self, cid, cycle=None)\n",
      " |  \n",
      " |  pfd(self, cid, year=None)\n",
      " |  \n",
      " |  sector(self, cid, cycle=None)\n",
      " |  \n",
      " |  summary(self, cid, cycle=None)\n",
      " |  \n",
      " |  ----------------------------------------------------------------------\n",
      " |  Methods inherited from Client:\n",
      " |  \n",
      " |  __init__(self, apikey=None, cache='.cache')\n",
      " |      Initialize self.  See help(type(self)) for accurate signature.\n",
      " |  \n",
      " |  fetch(self, method, **kwargs)\n",
      " |      Make the API request.\n",
      " |  \n",
      " |  ----------------------------------------------------------------------\n",
      " |  Data descriptors inherited from Client:\n",
      " |  \n",
      " |  __dict__\n",
      " |      dictionary for instance variables (if defined)\n",
      " |  \n",
      " |  __weakref__\n",
      " |      list of weak references to the object (if defined)\n",
      " |  \n",
      " |  ----------------------------------------------------------------------\n",
      " |  Data and other attributes inherited from Client:\n",
      " |  \n",
      " |  BASE_URI = 'https://www.opensecrets.org/api/?method={method}&output=js...\n",
      "\n"
     ]
    }
   ],
   "source": [
    "help(crp.candidates)"
   ]
  },
  {
   "cell_type": "markdown",
   "metadata": {},
   "source": [
    "### MIT Election Lab"
   ]
  },
  {
   "cell_type": "markdown",
   "metadata": {},
   "source": [
    "Having trouble finding the right structure for this API call for a download."
   ]
  },
  {
   "cell_type": "code",
   "execution_count": 21,
   "metadata": {},
   "outputs": [],
   "source": [
    "#get key for dataverse api\n",
    "key_path = \"/Users/flatironschool/.secret/dataverse_api.json\"\n",
    "keys = get_keys(key_path)\n",
    "\n",
    "api_key = keys['api_key']"
   ]
  },
  {
   "cell_type": "code",
   "execution_count": 31,
   "metadata": {},
   "outputs": [
    {
     "name": "stdout",
     "output_type": "stream",
     "text": [
      "<Response [404]>\n",
      "https://dataverse.harvard.edu/dataset/api/access/datafile/data\n",
      "<?xml version='1.0' encoding='UTF-8' ?>\n",
      "<!DOCTYPE html>\n",
      "<html xmlns=\"http://www.w3.org/1999/xhtml\" lang=\"en\" xml:lang=\"en\"><head id=\"j_idt2\"><!-- Global site tag (gtag.js) - Google Analytics -->\n",
      "<script async=\"async\" src=\"https://www.googletagmanager.com/gtag/js?id=UA-61753334-1\"></script>\n",
      "<script>\n",
      "  //<![CDATA[\n",
      "  window.dataLayer = window.dataLayer || [];\n",
      "  function gtag(){dataLayer.push(arguments);}\n",
      "  gtag('js', new Date()); gtag('config', 'UA-61753334-1');\n",
      "\n",
      "  window.addEventListener(\"load\", enableAnalyticsEventCapture, false);\n",
      "\n",
      "  function enableAnalyticsEventCapture() {\n",
      "    // Download button\n",
      "    $(document).on(\"click\", \".btn-download\", function() {\n",
      "      var category = $(this).text();\n",
      "      var label = getFileId($(this));\n",
      "      gtag('event', 'Download',{'event_category' : category,\n",
      "                                'event_label' : label});\n",
      "    });\n",
      "\n",
      "    // Request Access button\n",
      "    $(document).on(\"click\", \".btn-request\", function() {\n",
      "      var category = $(this).text();\n",
      "      var labe\n"
     ]
    }
   ],
   "source": [
    "server_url = 'https://dataverse.harvard.edu/dataset'\n",
    "path = '/api/access/datafile/'\n",
    "data_id = 'data'\n",
    "# data_id = ':persistentId/?persistentId=doi:10.7910/DVN/PEJ5QU'\n",
    "\n",
    "# '$SERVER_URL/api/search?q=$QUERY'\n",
    "\n",
    "# 'GET http://$SERVER/api/access/datafile/:persistentId/?persistentId=doi:10.5072/FK2/J8SJZB'\n",
    "\n",
    "url = server_url + path + data_id\n",
    "\n",
    "r = requests.get(url)\n",
    "print(r)\n",
    "print(r.url)\n",
    "# print(r.content)\n",
    "print(r.text[:1000])"
   ]
  },
  {
   "cell_type": "code",
   "execution_count": null,
   "metadata": {},
   "outputs": [],
   "source": []
  },
  {
   "cell_type": "code",
   "execution_count": null,
   "metadata": {},
   "outputs": [],
   "source": []
  },
  {
   "cell_type": "markdown",
   "metadata": {},
   "source": [
    "### ProPublica"
   ]
  },
  {
   "cell_type": "code",
   "execution_count": null,
   "metadata": {},
   "outputs": [],
   "source": [
    "key_path = \"/Users/flatironschool/.secret/pro_publica_api.json\"\n",
    "keys = get_keys(key_path)\n",
    "\n",
    "api_key = keys['api_key']"
   ]
  },
  {
   "cell_type": "code",
   "execution_count": null,
   "metadata": {},
   "outputs": [],
   "source": [
    "version = 'v1'\n",
    "\n",
    "url = 'https://api.propublica.org/congress/{}/'.format(version)\n",
    "\n",
    "\"https://api.propublica.org/congress/v1/116/bills/hr502.json\"\n",
    "\n",
    "variables = ['DATE_CODE', 'DATE_DESC', 'POP', 'NAME']\n",
    "\n",
    "params = {'get': ','.join(variables), 'for': granularity, 'key': api_key}\n",
    "\n",
    "r = requests.get(url, params=params)\n",
    "print(r.url)\n",
    "print(r)\n",
    "print(r.text[:1000])"
   ]
  }
 ],
 "metadata": {
  "kernelspec": {
   "display_name": "Python 3",
   "language": "python",
   "name": "python3"
  },
  "language_info": {
   "codemirror_mode": {
    "name": "ipython",
    "version": 3
   },
   "file_extension": ".py",
   "mimetype": "text/x-python",
   "name": "python",
   "nbconvert_exporter": "python",
   "pygments_lexer": "ipython3",
   "version": "3.7.6"
  }
 },
 "nbformat": 4,
 "nbformat_minor": 4
}
