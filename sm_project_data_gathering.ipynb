{
 "cells": [
  {
   "cell_type": "code",
   "execution_count": 8,
   "metadata": {},
   "outputs": [],
   "source": [
    "import pandas as pd\n",
    "import numpy as np\n",
    "import matplotlib.pyplot as plt\n",
    "%matplotlib inline\n",
    "\n",
    "import requests\n",
    "import json\n",
    "\n",
    "import time"
   ]
  },
  {
   "cell_type": "markdown",
   "metadata": {},
   "source": [
    "## Support Functions"
   ]
  },
  {
   "cell_type": "code",
   "execution_count": 3,
   "metadata": {},
   "outputs": [],
   "source": [
    "def get_keys(path):\n",
    "    \"\"\"\n",
    "    Pulls necessary api keys from designated path\n",
    "    \"\"\"\n",
    "    with open(path) as f:\n",
    "        return json.load(f)"
   ]
  },
  {
   "cell_type": "markdown",
   "metadata": {},
   "source": [
    "## ETL"
   ]
  },
  {
   "cell_type": "code",
   "execution_count": 11,
   "metadata": {},
   "outputs": [],
   "source": [
    "current_congress = 116"
   ]
  },
  {
   "cell_type": "markdown",
   "metadata": {},
   "source": [
    "### Voteview"
   ]
  },
  {
   "cell_type": "code",
   "execution_count": 17,
   "metadata": {},
   "outputs": [],
   "source": [
    "def get_voteview_csv_content(content_type, current_congress_num):\n",
    "    '''\n",
    "    Retrieves congress data by content type (passed in) for the 104th Congress to the current Congress today.\n",
    "    \n",
    "    '''\n",
    "    if content_type not in ['votes', 'rollcalls', 'members']:\n",
    "        print('Not a valid content type')\n",
    "        return\n",
    "    \n",
    "    for congress_num in range(104, current_congress_num+1):\n",
    "        #download the vote each member made for each roll call\n",
    "        url = 'https://voteview.com/static/data/out/{}/S{}_{}.csv'.format(content_type, congress_num, content_type)\n",
    "\n",
    "        r = requests.get(url)\n",
    "        content = r.content\n",
    "        file = open('{}/S{}_{}.csv'.format(content_type, congress_num, content_type), 'wb')\n",
    "\n",
    "        file.write(content)\n",
    "        file.close()\n",
    "        \n",
    "        #put in a sleep timer to not overload the voteview servers\n",
    "        time.sleep(1)\n",
    "        \n",
    "    return"
   ]
  },
  {
   "cell_type": "code",
   "execution_count": 18,
   "metadata": {},
   "outputs": [],
   "source": [
    "get_voteview_csv_content('votes', current_congress)"
   ]
  },
  {
   "cell_type": "code",
   "execution_count": 19,
   "metadata": {},
   "outputs": [],
   "source": [
    "get_voteview_csv_content('rollcalls', current_congress)"
   ]
  },
  {
   "cell_type": "code",
   "execution_count": 20,
   "metadata": {},
   "outputs": [],
   "source": [
    "get_voteview_csv_content('members', current_congress)"
   ]
  },
  {
   "cell_type": "markdown",
   "metadata": {},
   "source": [
    "### Open Secrets"
   ]
  },
  {
   "cell_type": "code",
   "execution_count": null,
   "metadata": {},
   "outputs": [],
   "source": []
  },
  {
   "cell_type": "markdown",
   "metadata": {},
   "source": [
    "### MIT Election Lab"
   ]
  },
  {
   "cell_type": "code",
   "execution_count": null,
   "metadata": {},
   "outputs": [],
   "source": []
  },
  {
   "cell_type": "markdown",
   "metadata": {},
   "source": [
    "### ProPublica"
   ]
  },
  {
   "cell_type": "code",
   "execution_count": null,
   "metadata": {},
   "outputs": [],
   "source": [
    "key_path = \"/Users/flatironschool/.secret/pro_publica_api.json\"\n",
    "keys = get_keys(key_path)\n",
    "\n",
    "api_key = keys['api_key']"
   ]
  },
  {
   "cell_type": "code",
   "execution_count": null,
   "metadata": {},
   "outputs": [],
   "source": [
    "version = 'v1'\n",
    "\n",
    "url = 'https://api.propublica.org/congress/{}/'.format(version)\n",
    "\n",
    "\"https://api.propublica.org/congress/v1/116/bills/hr502.json\"\n",
    "\n",
    "variables = ['DATE_CODE', 'DATE_DESC', 'POP', 'NAME']\n",
    "\n",
    "params = {'get': ','.join(variables), 'for': granularity, 'key': api_key}\n",
    "\n",
    "r = requests.get(url, params=params)\n",
    "print(r.url)\n",
    "print(r)\n",
    "print(r.text[:1000])"
   ]
  }
 ],
 "metadata": {
  "kernelspec": {
   "display_name": "Python 3",
   "language": "python",
   "name": "python3"
  },
  "language_info": {
   "codemirror_mode": {
    "name": "ipython",
    "version": 3
   },
   "file_extension": ".py",
   "mimetype": "text/x-python",
   "name": "python",
   "nbconvert_exporter": "python",
   "pygments_lexer": "ipython3",
   "version": "3.7.6"
  }
 },
 "nbformat": 4,
 "nbformat_minor": 4
}
