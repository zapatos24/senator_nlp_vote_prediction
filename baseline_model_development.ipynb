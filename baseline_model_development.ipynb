{
 "cells": [
  {
   "cell_type": "markdown",
   "metadata": {},
   "source": [
    "# Baseline Model Development"
   ]
  },
  {
   "cell_type": "code",
   "execution_count": 43,
   "metadata": {},
   "outputs": [
    {
     "name": "stderr",
     "output_type": "stream",
     "text": [
      "Using TensorFlow backend.\n"
     ]
    }
   ],
   "source": [
    "import pandas as pd\n",
    "import numpy as np\n",
    "import matplotlib.pyplot as plt\n",
    "import seaborn as sns\n",
    "\n",
    "from sklearn.preprocessing import StandardScaler\n",
    "\n",
    "from sklearn.feature_selection import RFE\n",
    "\n",
    "from sklearn.model_selection import train_test_split\n",
    "\n",
    "from sklearn.linear_model import LogisticRegression\n",
    "from sklearn.ensemble import RandomForestClassifier\n",
    "\n",
    "from sklearn.metrics import roc_auc_score\n",
    "from sklearn.metrics import roc_curve\n",
    "from sklearn.metrics import classification_report, confusion_matrix, accuracy_score, f1_score, precision_score\n",
    "\n",
    "import statsmodels.api as sm\n",
    "\n",
    "from imblearn.over_sampling import SMOTE\n",
    "\n",
    "\n",
    "%matplotlib inline"
   ]
  },
  {
   "cell_type": "code",
   "execution_count": 114,
   "metadata": {},
   "outputs": [],
   "source": [
    "def confusion_reporting(true_values, pred_values):\n",
    "    '''\n",
    "    This function takes in the true values of a dataset and the predicted values\n",
    "    of the dataset and prints out a classification report, accuracy score, and\n",
    "    plots the confusion matrix of the true and predicted values for simple analysis\n",
    "    '''\n",
    "    print(confusion_matrix(true_values, pred_values))\n",
    "    print(classification_report(true_values, pred_values))\n",
    "    print('Accuracy score:', round(accuracy_score(true_values, pred_values), 4))\n",
    "\n",
    "    cm = confusion_matrix(true_values, pred_values)\n",
    "    df_cm = pd.DataFrame(cm.astype('float') / cm.sum(axis=1)[:, np.newaxis],\n",
    "                         index=['F', 'T'],\n",
    "                         columns=['F', 'T'])\n",
    "    plt.figure(figsize=(7, 5))\n",
    "    sns.heatmap(df_cm, annot=True, cmap='Greens', vmin=0, vmax=1)\n",
    "    plt.xlabel('Pred Val')\n",
    "    plt.ylabel('True Val')\n",
    "    plt.show()"
   ]
  },
  {
   "cell_type": "code",
   "execution_count": 52,
   "metadata": {
    "scrolled": true
   },
   "outputs": [
    {
     "data": {
      "text/html": [
       "<div>\n",
       "<style scoped>\n",
       "    .dataframe tbody tr th:only-of-type {\n",
       "        vertical-align: middle;\n",
       "    }\n",
       "\n",
       "    .dataframe tbody tr th {\n",
       "        vertical-align: top;\n",
       "    }\n",
       "\n",
       "    .dataframe thead th {\n",
       "        text-align: right;\n",
       "    }\n",
       "</style>\n",
       "<table border=\"1\" class=\"dataframe\">\n",
       "  <thead>\n",
       "    <tr style=\"text-align: right;\">\n",
       "      <th></th>\n",
       "      <th>congress</th>\n",
       "      <th>chamber</th>\n",
       "      <th>rollnumber</th>\n",
       "      <th>icpsr</th>\n",
       "      <th>cast_code</th>\n",
       "      <th>state_abbrev</th>\n",
       "      <th>bioname</th>\n",
       "      <th>bioguide_id</th>\n",
       "      <th>born</th>\n",
       "      <th>nominate_dim1</th>\n",
       "      <th>...</th>\n",
       "      <th>cosponsor_my_party</th>\n",
       "      <th>cosponsors^2</th>\n",
       "      <th>cosponsors_D^2</th>\n",
       "      <th>cosponsors_R^2</th>\n",
       "      <th>cosponsors_ID^2</th>\n",
       "      <th>cosponsor_my_party^2</th>\n",
       "      <th>party_D</th>\n",
       "      <th>sponsor_party_D</th>\n",
       "      <th>party_R</th>\n",
       "      <th>sponsor_party_R</th>\n",
       "    </tr>\n",
       "  </thead>\n",
       "  <tbody>\n",
       "    <tr>\n",
       "      <th>5</th>\n",
       "      <td>113</td>\n",
       "      <td>Senate</td>\n",
       "      <td>1</td>\n",
       "      <td>14009</td>\n",
       "      <td>1</td>\n",
       "      <td>MS</td>\n",
       "      <td>COCHRAN, William Thad</td>\n",
       "      <td>C000567</td>\n",
       "      <td>1937</td>\n",
       "      <td>0.287</td>\n",
       "      <td>...</td>\n",
       "      <td>1</td>\n",
       "      <td>4.0</td>\n",
       "      <td>1</td>\n",
       "      <td>1</td>\n",
       "      <td>0</td>\n",
       "      <td>1</td>\n",
       "      <td>0</td>\n",
       "      <td>1</td>\n",
       "      <td>1</td>\n",
       "      <td>0</td>\n",
       "    </tr>\n",
       "    <tr>\n",
       "      <th>12</th>\n",
       "      <td>113</td>\n",
       "      <td>Senate</td>\n",
       "      <td>1</td>\n",
       "      <td>14203</td>\n",
       "      <td>1</td>\n",
       "      <td>MT</td>\n",
       "      <td>BAUCUS, Max Sieben</td>\n",
       "      <td>B000243</td>\n",
       "      <td>1941</td>\n",
       "      <td>-0.212</td>\n",
       "      <td>...</td>\n",
       "      <td>1</td>\n",
       "      <td>4.0</td>\n",
       "      <td>1</td>\n",
       "      <td>1</td>\n",
       "      <td>0</td>\n",
       "      <td>1</td>\n",
       "      <td>1</td>\n",
       "      <td>1</td>\n",
       "      <td>0</td>\n",
       "      <td>0</td>\n",
       "    </tr>\n",
       "    <tr>\n",
       "      <th>18</th>\n",
       "      <td>113</td>\n",
       "      <td>Senate</td>\n",
       "      <td>1</td>\n",
       "      <td>14226</td>\n",
       "      <td>1</td>\n",
       "      <td>IA</td>\n",
       "      <td>GRASSLEY, Charles Ernest</td>\n",
       "      <td>G000386</td>\n",
       "      <td>1933</td>\n",
       "      <td>0.346</td>\n",
       "      <td>...</td>\n",
       "      <td>1</td>\n",
       "      <td>4.0</td>\n",
       "      <td>1</td>\n",
       "      <td>1</td>\n",
       "      <td>0</td>\n",
       "      <td>1</td>\n",
       "      <td>0</td>\n",
       "      <td>1</td>\n",
       "      <td>1</td>\n",
       "      <td>0</td>\n",
       "    </tr>\n",
       "    <tr>\n",
       "      <th>24</th>\n",
       "      <td>113</td>\n",
       "      <td>Senate</td>\n",
       "      <td>1</td>\n",
       "      <td>14230</td>\n",
       "      <td>1</td>\n",
       "      <td>IA</td>\n",
       "      <td>HARKIN, Thomas Richard (Tom)</td>\n",
       "      <td>H000206</td>\n",
       "      <td>1939</td>\n",
       "      <td>-0.351</td>\n",
       "      <td>...</td>\n",
       "      <td>1</td>\n",
       "      <td>4.0</td>\n",
       "      <td>1</td>\n",
       "      <td>1</td>\n",
       "      <td>0</td>\n",
       "      <td>1</td>\n",
       "      <td>1</td>\n",
       "      <td>1</td>\n",
       "      <td>0</td>\n",
       "      <td>0</td>\n",
       "    </tr>\n",
       "    <tr>\n",
       "      <th>30</th>\n",
       "      <td>113</td>\n",
       "      <td>Senate</td>\n",
       "      <td>1</td>\n",
       "      <td>14307</td>\n",
       "      <td>1</td>\n",
       "      <td>VT</td>\n",
       "      <td>LEAHY, Patrick Joseph</td>\n",
       "      <td>L000174</td>\n",
       "      <td>1940</td>\n",
       "      <td>-0.361</td>\n",
       "      <td>...</td>\n",
       "      <td>1</td>\n",
       "      <td>4.0</td>\n",
       "      <td>1</td>\n",
       "      <td>1</td>\n",
       "      <td>0</td>\n",
       "      <td>1</td>\n",
       "      <td>1</td>\n",
       "      <td>1</td>\n",
       "      <td>0</td>\n",
       "      <td>0</td>\n",
       "    </tr>\n",
       "  </tbody>\n",
       "</table>\n",
       "<p>5 rows × 78 columns</p>\n",
       "</div>"
      ],
      "text/plain": [
       "    congress chamber  rollnumber  icpsr  cast_code state_abbrev  \\\n",
       "5        113  Senate           1  14009          1           MS   \n",
       "12       113  Senate           1  14203          1           MT   \n",
       "18       113  Senate           1  14226          1           IA   \n",
       "24       113  Senate           1  14230          1           IA   \n",
       "30       113  Senate           1  14307          1           VT   \n",
       "\n",
       "                         bioname bioguide_id  born  nominate_dim1  ...  \\\n",
       "5          COCHRAN, William Thad     C000567  1937          0.287  ...   \n",
       "12            BAUCUS, Max Sieben     B000243  1941         -0.212  ...   \n",
       "18      GRASSLEY, Charles Ernest     G000386  1933          0.346  ...   \n",
       "24  HARKIN, Thomas Richard (Tom)     H000206  1939         -0.351  ...   \n",
       "30         LEAHY, Patrick Joseph     L000174  1940         -0.361  ...   \n",
       "\n",
       "    cosponsor_my_party cosponsors^2 cosponsors_D^2 cosponsors_R^2  \\\n",
       "5                    1          4.0              1              1   \n",
       "12                   1          4.0              1              1   \n",
       "18                   1          4.0              1              1   \n",
       "24                   1          4.0              1              1   \n",
       "30                   1          4.0              1              1   \n",
       "\n",
       "   cosponsors_ID^2 cosponsor_my_party^2  party_D  sponsor_party_D  party_R  \\\n",
       "5                0                    1        0                1        1   \n",
       "12               0                    1        1                1        0   \n",
       "18               0                    1        0                1        1   \n",
       "24               0                    1        1                1        0   \n",
       "30               0                    1        1                1        0   \n",
       "\n",
       "   sponsor_party_R  \n",
       "5                0  \n",
       "12               0  \n",
       "18               0  \n",
       "24               0  \n",
       "30               0  \n",
       "\n",
       "[5 rows x 78 columns]"
      ]
     },
     "metadata": {},
     "output_type": "display_data"
    },
    {
     "name": "stdout",
     "output_type": "stream",
     "text": [
      "<class 'pandas.core.frame.DataFrame'>\n",
      "Int64Index: 102692 entries, 5 to 306260\n",
      "Data columns (total 78 columns):\n",
      " #   Column                         Non-Null Count   Dtype  \n",
      "---  ------                         --------------   -----  \n",
      " 0   congress                       102692 non-null  int64  \n",
      " 1   chamber                        102692 non-null  object \n",
      " 2   rollnumber                     102692 non-null  int64  \n",
      " 3   icpsr                          102692 non-null  int64  \n",
      " 4   cast_code                      102692 non-null  int64  \n",
      " 5   state_abbrev                   102692 non-null  object \n",
      " 6   bioname                        102692 non-null  object \n",
      " 7   bioguide_id                    102692 non-null  object \n",
      " 8   born                           102692 non-null  int64  \n",
      " 9   nominate_dim1                  102692 non-null  float64\n",
      " 10  nominate_dim2                  102692 non-null  float64\n",
      " 11  party                          102692 non-null  object \n",
      " 12  last_name                      102692 non-null  object \n",
      " 13  first_name                     102692 non-null  object \n",
      " 14  lead_party                     102692 non-null  object \n",
      " 15  date                           102692 non-null  object \n",
      " 16  session                        102692 non-null  int64  \n",
      " 17  yea_count                      102692 non-null  int64  \n",
      " 18  nay_count                      102692 non-null  int64  \n",
      " 19  bill_number                    102692 non-null  object \n",
      " 20  vote_result                    102692 non-null  object \n",
      " 21  vote_desc                      102692 non-null  object \n",
      " 22  vote_question                  102692 non-null  object \n",
      " 23  cid                            102692 non-null  object \n",
      " 24  summary                        102692 non-null  object \n",
      " 25  sponsor                        102692 non-null  object \n",
      " 26  sponsor_id                     102692 non-null  object \n",
      " 27  sponsor_party                  102692 non-null  object \n",
      " 28  cosponsors                     102692 non-null  float64\n",
      " 29  cosponsors_D                   102692 non-null  int64  \n",
      " 30  cosponsors_R                   102692 non-null  int64  \n",
      " 31  cosponsors_ID                  102692 non-null  int64  \n",
      " 32  subjects                       102692 non-null  object \n",
      " 33  Industry_0                     102692 non-null  object \n",
      " 34  Industry_0_contrib             102692 non-null  object \n",
      " 35  Industry_1                     102692 non-null  object \n",
      " 36  Industry_1_contrib             102692 non-null  object \n",
      " 37  Industry_2                     102692 non-null  object \n",
      " 38  Industry_2_contrib             102692 non-null  object \n",
      " 39  Industry_3                     102692 non-null  object \n",
      " 40  Industry_3_contrib             102692 non-null  object \n",
      " 41  Industry_4                     102692 non-null  object \n",
      " 42  Industry_4_contrib             102692 non-null  object \n",
      " 43  Industry_5                     102692 non-null  object \n",
      " 44  Industry_5_contrib             102692 non-null  object \n",
      " 45  Industry_6                     102692 non-null  object \n",
      " 46  Industry_6_contrib             102692 non-null  object \n",
      " 47  Industry_7                     102692 non-null  object \n",
      " 48  Industry_7_contrib             102692 non-null  object \n",
      " 49  Industry_8                     102692 non-null  object \n",
      " 50  Industry_8_contrib             102692 non-null  object \n",
      " 51  Industry_9                     102692 non-null  object \n",
      " 52  Industry_9_contrib             102692 non-null  object \n",
      " 53  campaign_year                  102692 non-null  int64  \n",
      " 54  recent_campaign_year           102692 non-null  int64  \n",
      " 55  first_name_alt                 102692 non-null  object \n",
      " 56  percent_campaign_vote          102692 non-null  float64\n",
      " 57  first_year_elected             102692 non-null  int64  \n",
      " 58  election_year                  102692 non-null  int64  \n",
      " 59  tenure                         102692 non-null  int64  \n",
      " 60  age                            102692 non-null  int64  \n",
      " 61  is_sponsor                     102692 non-null  int64  \n",
      " 62  sponsor_party_is_lead          102692 non-null  int64  \n",
      " 63  cosponsor_party_D_%            102692 non-null  float64\n",
      " 64  cosponsor_party_R_%            102692 non-null  float64\n",
      " 65  percent_cosponsors_lead_party  102692 non-null  float64\n",
      " 66  sponsor_is_same_party          102692 non-null  int64  \n",
      " 67  lead_party_D                   102692 non-null  int64  \n",
      " 68  cosponsor_my_party             102692 non-null  int64  \n",
      " 69  cosponsors^2                   102692 non-null  float64\n",
      " 70  cosponsors_D^2                 102692 non-null  int64  \n",
      " 71  cosponsors_R^2                 102692 non-null  int64  \n",
      " 72  cosponsors_ID^2                102692 non-null  int64  \n",
      " 73  cosponsor_my_party^2           102692 non-null  int64  \n",
      " 74  party_D                        102692 non-null  int64  \n",
      " 75  sponsor_party_D                102692 non-null  int64  \n",
      " 76  party_R                        102692 non-null  int64  \n",
      " 77  sponsor_party_R                102692 non-null  int64  \n",
      "dtypes: float64(8), int64(30), object(40)\n",
      "memory usage: 61.9+ MB\n"
     ]
    },
    {
     "data": {
      "text/plain": [
       "None"
      ]
     },
     "metadata": {},
     "output_type": "display_data"
    }
   ],
   "source": [
    "main_df = pd.read_pickle('main_df.pkl')\n",
    "\n",
    "display(main_df.head())\n",
    "display(main_df.info())"
   ]
  },
  {
   "cell_type": "markdown",
   "metadata": {},
   "source": [
    "#### Drop all roll numbers excepts last for each bill"
   ]
  },
  {
   "cell_type": "code",
   "execution_count": 53,
   "metadata": {
    "scrolled": false
   },
   "outputs": [],
   "source": [
    "last_roll_per_bill = main_df.groupby(['congress', 'bill_number']).rollnumber.max().reset_index()\n",
    "last_roll_per_bill.columns = ['congress', 'bill_number', 'last_rollcall']\n",
    "main_df_last_roll = main_df.merge(last_roll_per_bill, how='left', on=['congress', 'bill_number'])\n",
    "\n",
    "main_df = main_df_last_roll[main_df_last_roll['rollnumber'] == main_df_last_roll['last_rollcall']]"
   ]
  },
  {
   "cell_type": "code",
   "execution_count": 54,
   "metadata": {},
   "outputs": [],
   "source": [
    "dep_col = 'cast_code'\n",
    "\n",
    "senator_info = ['nominate_dim1', 'nominate_dim2', 'percent_campaign_vote', 'election_year', 'tenure', \n",
    "                'age', 'is_sponsor', 'sponsor_is_same_party', 'party_D', 'party_R', 'cosponsor_my_party', \n",
    "                'cosponsor_my_party^2']\n",
    "\n",
    "bill_info = ['sponsor_party_is_lead', 'cosponsor_party_D_%', 'cosponsor_party_R_%', \n",
    "             'percent_cosponsors_lead_party', 'lead_party_D', 'sponsor_party_D', 'sponsor_party_R',\n",
    "             'cosponsors', 'cosponsors_D', 'cosponsors_R', 'cosponsors_ID',\n",
    "             'cosponsors^2', 'cosponsors_D^2', 'cosponsors_R^2', 'cosponsors_ID^2']\n",
    "\n",
    "indep_cols = senator_info + bill_info"
   ]
  },
  {
   "cell_type": "code",
   "execution_count": 115,
   "metadata": {},
   "outputs": [],
   "source": [
    "scalar = StandardScaler()"
   ]
  },
  {
   "cell_type": "code",
   "execution_count": 116,
   "metadata": {},
   "outputs": [],
   "source": [
    "y = main_df[dep_col]\n",
    "X = main_df[indep_cols]\n",
    "\n",
    "X_train, X_test, y_train, y_test = train_test_split(X, y, test_size=0.3, random_state=0)\n",
    "\n",
    "X_train = scalar.fit_transform(X_train)\n",
    "X_test = scalar.transform(X_test)\n",
    "\n",
    "# X_train_df = pd.DataFrame(X_train, index=y_train.index, columns=X.columns)\n",
    "X_test_df = pd.DataFrame(X_test, index=y_test.index, columns=X.columns)"
   ]
  },
  {
   "cell_type": "code",
   "execution_count": 117,
   "metadata": {},
   "outputs": [
    {
     "name": "stdout",
     "output_type": "stream",
     "text": [
      "length of oversampled data is  23026\n",
      "Number of nay cast codes in oversampled data: 11513\n",
      "Number of yea cast codes in oversampled data: 11513\n",
      "Proportion of nay in oversampled data is: 0.5\n",
      "Proportion of yea in oversampled data is: 0.5\n"
     ]
    }
   ],
   "source": [
    "os = SMOTE(random_state=0)\n",
    "columns = X.columns\n",
    "os_data_X, os_data_y = os.fit_sample(X_train, y_train)\n",
    "os_data_X = pd.DataFrame(data=os_data_X, columns=columns )\n",
    "# os_data_y = pd.DataFrame(data=os_data_y, columns=['cast_code'])\n",
    "\n",
    "# we can Check the numbers of our data\n",
    "print(\"length of oversampled data is \",len(os_data_X))\n",
    "print(\"Number of nay cast codes in oversampled data:\", len(os_data_y[os_data_y == 0]))\n",
    "print(\"Number of yea cast codes in oversampled data:\", len(os_data_y[os_data_y == 1]))\n",
    "print(\"Proportion of nay in oversampled data is:\", len(os_data_y[os_data_y == 0])/len(os_data_X))\n",
    "print(\"Proportion of yea in oversampled data is:\", len(os_data_y[os_data_y == 1])/len(os_data_X))"
   ]
  },
  {
   "cell_type": "code",
   "execution_count": 118,
   "metadata": {},
   "outputs": [
    {
     "name": "stdout",
     "output_type": "stream",
     "text": [
      "[ 1  6  9  8 10 11 13  1  1  1  1  1  7  1  2  3 12  4  5  1  1  1  1  1\n",
      "  1  1  1]\n",
      "Low ranked features:  ['nominate_dim2', 'percent_campaign_vote', 'election_year', 'tenure', 'age', 'is_sponsor', 'sponsor_party_is_lead', 'cosponsor_party_R_%', 'percent_cosponsors_lead_party', 'lead_party_D', 'sponsor_party_D', 'sponsor_party_R']\n"
     ]
    }
   ],
   "source": [
    "logreg = LogisticRegression()\n",
    "rfe = RFE(logreg, 15)\n",
    "rfe = rfe.fit(os_data_X, os_data_y.values)\n",
    "\n",
    "print(rfe.ranking_)\n",
    "\n",
    "low_rank_features = []\n",
    "for i in range(len(os_data_X.columns)):\n",
    "    if rfe.ranking_[i] != 1:\n",
    "        low_rank_features.append(os_data_X.columns[i])\n",
    "        \n",
    "print('Low ranked features: ', low_rank_features)"
   ]
  },
  {
   "cell_type": "code",
   "execution_count": 119,
   "metadata": {},
   "outputs": [],
   "source": [
    "cols_to_drop = low_rank_features\n",
    "\n",
    "new_indep_cols = [x for x in indep_cols if x not in cols_to_drop]\n",
    "\n",
    "os_data_X = os_data_X[new_indep_cols]\n",
    "X_test_df = X_test_df[new_indep_cols]"
   ]
  },
  {
   "cell_type": "code",
   "execution_count": 120,
   "metadata": {},
   "outputs": [
    {
     "name": "stdout",
     "output_type": "stream",
     "text": [
      "Optimization terminated successfully.\n",
      "         Current function value: 0.548493\n",
      "         Iterations 8\n",
      "                             Results: Logit\n",
      "=========================================================================\n",
      "Model:                  Logit              Pseudo R-squared:   0.209     \n",
      "Dependent Variable:     cast_code          AIC:                25289.2029\n",
      "Date:                   2020-05-28 16:02   BIC:                25409.8686\n",
      "No. Observations:       23026              Log-Likelihood:     -12630.   \n",
      "Df Model:               14                 LL-Null:            -15960.   \n",
      "Df Residuals:           23011              LLR p-value:        0.0000    \n",
      "Converged:              1.0000             Scale:              1.0000    \n",
      "No. Iterations:         8.0000                                           \n",
      "-------------------------------------------------------------------------\n",
      "                       Coef.   Std.Err.    z     P>|z|   [0.025   0.975] \n",
      "-------------------------------------------------------------------------\n",
      "nominate_dim1          -0.3096   0.0445  -6.9505 0.0000  -0.3969  -0.2223\n",
      "sponsor_is_same_party   0.7369   0.0190  38.8163 0.0000   0.6997   0.7741\n",
      "party_D                -0.3205   0.0525  -6.1079 0.0000  -0.4234  -0.2177\n",
      "party_R                -0.4255   0.0679  -6.2616 0.0000  -0.5586  -0.2923\n",
      "cosponsor_my_party      2.7717   0.0809  34.2558 0.0000   2.6132   2.9303\n",
      "cosponsor_my_party^2   -1.8573   0.0715 -25.9676 0.0000  -1.9975  -1.7171\n",
      "cosponsor_party_D_%     0.2127   0.0222   9.5683 0.0000   0.1691   0.2562\n",
      "cosponsors             57.3165  28.7007   1.9970 0.0458   1.0641 113.5689\n",
      "cosponsors_D          -38.0930  18.5722  -2.0511 0.0403 -74.4939  -1.6921\n",
      "cosponsors_R          -33.8239  16.4415  -2.0572 0.0397 -66.0486  -1.5992\n",
      "cosponsors_ID          -0.9347   0.3080  -3.0345 0.0024  -1.5385  -0.3310\n",
      "cosponsors^2            0.8136   0.1039   7.8305 0.0000   0.6100   1.0172\n",
      "cosponsors_D^2          0.1980   0.1212   1.6337 0.1023  -0.0395   0.4355\n",
      "cosponsors_R^2         -0.0597   0.0976  -0.6120 0.5405  -0.2511   0.1316\n",
      "cosponsors_ID^2         0.2991   0.0677   4.4189 0.0000   0.1664   0.4318\n",
      "=========================================================================\n",
      "\n"
     ]
    }
   ],
   "source": [
    "logit_model=sm.Logit(os_data_y, os_data_X)\n",
    "result=logit_model.fit()\n",
    "print(result.summary2())"
   ]
  },
  {
   "cell_type": "code",
   "execution_count": 121,
   "metadata": {},
   "outputs": [],
   "source": [
    "logreg = LogisticRegression()\n",
    "logreg.fit(os_data_X, os_data_y)\n",
    "y_pred = logreg.predict(X_test_df)"
   ]
  },
  {
   "cell_type": "code",
   "execution_count": 122,
   "metadata": {},
   "outputs": [
    {
     "name": "stdout",
     "output_type": "stream",
     "text": [
      "[[1497  555]\n",
      " [1322 3594]]\n",
      "              precision    recall  f1-score   support\n",
      "\n",
      "           0       0.53      0.73      0.61      2052\n",
      "           1       0.87      0.73      0.79      4916\n",
      "\n",
      "    accuracy                           0.73      6968\n",
      "   macro avg       0.70      0.73      0.70      6968\n",
      "weighted avg       0.77      0.73      0.74      6968\n",
      "\n",
      "Accuracy score: 0.7306\n"
     ]
    },
    {
     "data": {
      "image/png": "[encoded data removed]",
      "text/plain": [
       "<Figure size 504x360 with 2 Axes>"
      ]
     },
     "metadata": {
      "needs_background": "light"
     },
     "output_type": "display_data"
    }
   ],
   "source": [
    "confusion_reporting(y_test, y_pred)"
   ]
  },
  {
   "cell_type": "code",
   "execution_count": 123,
   "metadata": {},
   "outputs": [
    {
     "data": {
      "image/png": "[encoded data removed]",
      "text/plain": [
       "<Figure size 432x288 with 1 Axes>"
      ]
     },
     "metadata": {
      "needs_background": "light"
     },
     "output_type": "display_data"
    }
   ],
   "source": [
    "logit_roc_auc = roc_auc_score(y_test, logreg.predict(X_test_df))\n",
    "fpr, tpr, thresholds = roc_curve(y_test, logreg.predict_proba(X_test_df)[:,1])\n",
    "plt.figure()\n",
    "plt.plot(fpr, tpr, label='Logistic Regression (area = %0.2f)' % logit_roc_auc)\n",
    "plt.plot([0, 1], [0, 1],'r--')\n",
    "plt.xlim([0.0, 1.0])\n",
    "plt.ylim([0.0, 1.05])\n",
    "plt.xlabel('False Positive Rate')\n",
    "plt.ylabel('True Positive Rate')\n",
    "plt.title('Receiver operating characteristic')\n",
    "plt.legend(loc=\"lower right\")\n",
    "plt.savefig('Log_ROC')\n",
    "plt.show()"
   ]
  },
  {
   "cell_type": "code",
   "execution_count": null,
   "metadata": {},
   "outputs": [],
   "source": []
  },
  {
   "cell_type": "code",
   "execution_count": null,
   "metadata": {},
   "outputs": [],
   "source": []
  },
  {
   "cell_type": "markdown",
   "metadata": {},
   "source": [
    "## Random Forest"
   ]
  },
  {
   "cell_type": "code",
   "execution_count": 124,
   "metadata": {},
   "outputs": [],
   "source": [
    "rf_clf = RandomForestClassifier()"
   ]
  },
  {
   "cell_type": "code",
   "execution_count": 125,
   "metadata": {},
   "outputs": [],
   "source": [
    "scalar = StandardScaler()"
   ]
  },
  {
   "cell_type": "code",
   "execution_count": 126,
   "metadata": {},
   "outputs": [],
   "source": [
    "y = main_df[dep_col]\n",
    "X = main_df[indep_cols]\n",
    "\n",
    "X_train, X_test, y_train, y_test = train_test_split(X, y, test_size=0.3, random_state=0)\n",
    "\n",
    "X_train = scalar.fit_transform(X_train)\n",
    "X_test = scalar.transform(X_test)\n",
    "\n",
    "# X_train_df = pd.DataFrame(X_train, index=y_train.index, columns=X.columns)\n",
    "# X_test_df = pd.DataFrame(X_test, index=y_test.index, columns=X.columns)"
   ]
  },
  {
   "cell_type": "code",
   "execution_count": 127,
   "metadata": {},
   "outputs": [],
   "source": [
    "os = SMOTE(random_state=0)\n",
    "columns = X.columns\n",
    "os_data_X, os_data_y = os.fit_sample(X_train, y_train)\n",
    "os_data_X = pd.DataFrame(data=os_data_X, columns=columns)"
   ]
  },
  {
   "cell_type": "code",
   "execution_count": 128,
   "metadata": {},
   "outputs": [],
   "source": [
    "rf_clf.fit(os_data_X, os_data_y)\n",
    "y_pred = rf_clf.predict(X_test)"
   ]
  },
  {
   "cell_type": "code",
   "execution_count": 129,
   "metadata": {},
   "outputs": [
    {
     "name": "stdout",
     "output_type": "stream",
     "text": [
      "[[1453  599]\n",
      " [ 610 4306]]\n",
      "              precision    recall  f1-score   support\n",
      "\n",
      "           0       0.70      0.71      0.71      2052\n",
      "           1       0.88      0.88      0.88      4916\n",
      "\n",
      "    accuracy                           0.83      6968\n",
      "   macro avg       0.79      0.79      0.79      6968\n",
      "weighted avg       0.83      0.83      0.83      6968\n",
      "\n",
      "Accuracy score: 0.8265\n"
     ]
    },
    {
     "data": {
      "image/png": "[encoded data removed]",
      "text/plain": [
       "<Figure size 504x360 with 2 Axes>"
      ]
     },
     "metadata": {
      "needs_background": "light"
     },
     "output_type": "display_data"
    }
   ],
   "source": [
    "confusion_reporting(y_test, y_pred)"
   ]
  },
  {
   "cell_type": "code",
   "execution_count": 130,
   "metadata": {},
   "outputs": [
    {
     "data": {
      "image/png": "[encoded data removed]",
      "text/plain": [
       "<Figure size 432x288 with 1 Axes>"
      ]
     },
     "metadata": {
      "needs_background": "light"
     },
     "output_type": "display_data"
    }
   ],
   "source": [
    "rf_roc_auc = roc_auc_score(y_test, rf_clf.predict(X_test))\n",
    "fpr, tpr, thresholds = roc_curve(y_test, rf_clf.predict_proba(X_test)[:,1])\n",
    "plt.figure()\n",
    "plt.plot(fpr, tpr, label='Logistic Regression (area = %0.2f)' % rf_roc_auc)\n",
    "plt.plot([0, 1], [0, 1],'r--')\n",
    "plt.xlim([0.0, 1.0])\n",
    "plt.ylim([0.0, 1.05])\n",
    "plt.xlabel('False Positive Rate')\n",
    "plt.ylabel('True Positive Rate')\n",
    "plt.title('Receiver operating characteristic')\n",
    "plt.legend(loc=\"lower right\")\n",
    "plt.savefig('Log_ROC')\n",
    "plt.show()"
   ]
  },
  {
   "cell_type": "code",
   "execution_count": 131,
   "metadata": {},
   "outputs": [
    {
     "data": {
      "text/html": [
       "<div>\n",
       "<style scoped>\n",
       "    .dataframe tbody tr th:only-of-type {\n",
       "        vertical-align: middle;\n",
       "    }\n",
       "\n",
       "    .dataframe tbody tr th {\n",
       "        vertical-align: top;\n",
       "    }\n",
       "\n",
       "    .dataframe thead th {\n",
       "        text-align: right;\n",
       "    }\n",
       "</style>\n",
       "<table border=\"1\" class=\"dataframe\">\n",
       "  <thead>\n",
       "    <tr style=\"text-align: right;\">\n",
       "      <th></th>\n",
       "      <th>feature</th>\n",
       "      <th>importance</th>\n",
       "    </tr>\n",
       "  </thead>\n",
       "  <tbody>\n",
       "    <tr>\n",
       "      <th>0</th>\n",
       "      <td>nominate_dim1</td>\n",
       "      <td>0.093341</td>\n",
       "    </tr>\n",
       "    <tr>\n",
       "      <th>1</th>\n",
       "      <td>cosponsor_my_party</td>\n",
       "      <td>0.086499</td>\n",
       "    </tr>\n",
       "    <tr>\n",
       "      <th>2</th>\n",
       "      <td>sponsor_is_same_party</td>\n",
       "      <td>0.080930</td>\n",
       "    </tr>\n",
       "    <tr>\n",
       "      <th>3</th>\n",
       "      <td>age</td>\n",
       "      <td>0.072700</td>\n",
       "    </tr>\n",
       "    <tr>\n",
       "      <th>4</th>\n",
       "      <td>tenure</td>\n",
       "      <td>0.069290</td>\n",
       "    </tr>\n",
       "    <tr>\n",
       "      <th>5</th>\n",
       "      <td>cosponsor_my_party^2</td>\n",
       "      <td>0.063578</td>\n",
       "    </tr>\n",
       "    <tr>\n",
       "      <th>6</th>\n",
       "      <td>nominate_dim2</td>\n",
       "      <td>0.059127</td>\n",
       "    </tr>\n",
       "    <tr>\n",
       "      <th>7</th>\n",
       "      <td>percent_campaign_vote</td>\n",
       "      <td>0.053291</td>\n",
       "    </tr>\n",
       "    <tr>\n",
       "      <th>8</th>\n",
       "      <td>cosponsors</td>\n",
       "      <td>0.045376</td>\n",
       "    </tr>\n",
       "    <tr>\n",
       "      <th>9</th>\n",
       "      <td>cosponsors^2</td>\n",
       "      <td>0.043780</td>\n",
       "    </tr>\n",
       "    <tr>\n",
       "      <th>10</th>\n",
       "      <td>cosponsors_R</td>\n",
       "      <td>0.038283</td>\n",
       "    </tr>\n",
       "    <tr>\n",
       "      <th>11</th>\n",
       "      <td>cosponsors_R^2</td>\n",
       "      <td>0.038038</td>\n",
       "    </tr>\n",
       "    <tr>\n",
       "      <th>12</th>\n",
       "      <td>percent_cosponsors_lead_party</td>\n",
       "      <td>0.033446</td>\n",
       "    </tr>\n",
       "    <tr>\n",
       "      <th>13</th>\n",
       "      <td>cosponsors_D^2</td>\n",
       "      <td>0.030260</td>\n",
       "    </tr>\n",
       "    <tr>\n",
       "      <th>14</th>\n",
       "      <td>cosponsor_party_R_%</td>\n",
       "      <td>0.029425</td>\n",
       "    </tr>\n",
       "    <tr>\n",
       "      <th>15</th>\n",
       "      <td>cosponsors_D</td>\n",
       "      <td>0.028508</td>\n",
       "    </tr>\n",
       "    <tr>\n",
       "      <th>16</th>\n",
       "      <td>cosponsor_party_D_%</td>\n",
       "      <td>0.028023</td>\n",
       "    </tr>\n",
       "    <tr>\n",
       "      <th>17</th>\n",
       "      <td>party_R</td>\n",
       "      <td>0.018684</td>\n",
       "    </tr>\n",
       "    <tr>\n",
       "      <th>18</th>\n",
       "      <td>sponsor_party_is_lead</td>\n",
       "      <td>0.018585</td>\n",
       "    </tr>\n",
       "    <tr>\n",
       "      <th>19</th>\n",
       "      <td>lead_party_D</td>\n",
       "      <td>0.018346</td>\n",
       "    </tr>\n",
       "    <tr>\n",
       "      <th>20</th>\n",
       "      <td>sponsor_party_D</td>\n",
       "      <td>0.011912</td>\n",
       "    </tr>\n",
       "    <tr>\n",
       "      <th>21</th>\n",
       "      <td>party_D</td>\n",
       "      <td>0.011525</td>\n",
       "    </tr>\n",
       "    <tr>\n",
       "      <th>22</th>\n",
       "      <td>sponsor_party_R</td>\n",
       "      <td>0.010893</td>\n",
       "    </tr>\n",
       "    <tr>\n",
       "      <th>23</th>\n",
       "      <td>election_year</td>\n",
       "      <td>0.010164</td>\n",
       "    </tr>\n",
       "    <tr>\n",
       "      <th>24</th>\n",
       "      <td>cosponsors_ID</td>\n",
       "      <td>0.003081</td>\n",
       "    </tr>\n",
       "    <tr>\n",
       "      <th>25</th>\n",
       "      <td>cosponsors_ID^2</td>\n",
       "      <td>0.002268</td>\n",
       "    </tr>\n",
       "    <tr>\n",
       "      <th>26</th>\n",
       "      <td>is_sponsor</td>\n",
       "      <td>0.000649</td>\n",
       "    </tr>\n",
       "  </tbody>\n",
       "</table>\n",
       "</div>"
      ],
      "text/plain": [
       "                          feature  importance\n",
       "0                   nominate_dim1    0.093341\n",
       "1              cosponsor_my_party    0.086499\n",
       "2           sponsor_is_same_party    0.080930\n",
       "3                             age    0.072700\n",
       "4                          tenure    0.069290\n",
       "5            cosponsor_my_party^2    0.063578\n",
       "6                   nominate_dim2    0.059127\n",
       "7           percent_campaign_vote    0.053291\n",
       "8                      cosponsors    0.045376\n",
       "9                    cosponsors^2    0.043780\n",
       "10                   cosponsors_R    0.038283\n",
       "11                 cosponsors_R^2    0.038038\n",
       "12  percent_cosponsors_lead_party    0.033446\n",
       "13                 cosponsors_D^2    0.030260\n",
       "14            cosponsor_party_R_%    0.029425\n",
       "15                   cosponsors_D    0.028508\n",
       "16            cosponsor_party_D_%    0.028023\n",
       "17                        party_R    0.018684\n",
       "18          sponsor_party_is_lead    0.018585\n",
       "19                   lead_party_D    0.018346\n",
       "20                sponsor_party_D    0.011912\n",
       "21                        party_D    0.011525\n",
       "22                sponsor_party_R    0.010893\n",
       "23                  election_year    0.010164\n",
       "24                  cosponsors_ID    0.003081\n",
       "25                cosponsors_ID^2    0.002268\n",
       "26                     is_sponsor    0.000649"
      ]
     },
     "execution_count": 131,
     "metadata": {},
     "output_type": "execute_result"
    }
   ],
   "source": [
    "feat_imp = pd.DataFrame({'feature': list(X.columns),\n",
    "                         'importance': rf_clf.feature_importances_}).sort_values('importance', ascending = False)\n",
    "\n",
    "feat_imp = feat_imp.reset_index(drop=True)\n",
    "\n",
    "feat_imp"
   ]
  },
  {
   "cell_type": "code",
   "execution_count": 132,
   "metadata": {},
   "outputs": [
    {
     "data": {
      "image/png": "[encoded data removed]",
      "text/plain": [
       "<Figure size 432x288 with 1 Axes>"
      ]
     },
     "metadata": {
      "needs_background": "light"
     },
     "output_type": "display_data"
    }
   ],
   "source": [
    "plt.plot(feat_imp['feature'], feat_imp['importance'])\n",
    "plt.xticks(rotation=90)\n",
    "plt.show()"
   ]
  },
  {
   "cell_type": "markdown",
   "metadata": {},
   "source": [
    "## Using Feature Importance from RF to tailor Logit"
   ]
  },
  {
   "cell_type": "code",
   "execution_count": 133,
   "metadata": {},
   "outputs": [
    {
     "name": "stderr",
     "output_type": "stream",
     "text": [
      "/Users/flatironschool/Anaconda/anaconda3/lib/python3.7/site-packages/sklearn/linear_model/_logistic.py:940: ConvergenceWarning: lbfgs failed to converge (status=1):\n",
      "STOP: TOTAL NO. of ITERATIONS REACHED LIMIT.\n",
      "\n",
      "Increase the number of iterations (max_iter) or scale the data as shown in:\n",
      "    https://scikit-learn.org/stable/modules/preprocessing.html\n",
      "Please also refer to the documentation for alternative solver options:\n",
      "    https://scikit-learn.org/stable/modules/linear_model.html#logistic-regression\n",
      "  extra_warning_msg=_LOGISTIC_SOLVER_CONVERGENCE_MSG)\n",
      "/Users/flatironschool/Anaconda/anaconda3/lib/python3.7/site-packages/sklearn/linear_model/_logistic.py:940: ConvergenceWarning: lbfgs failed to converge (status=1):\n",
      "STOP: TOTAL NO. of ITERATIONS REACHED LIMIT.\n",
      "\n",
      "Increase the number of iterations (max_iter) or scale the data as shown in:\n",
      "    https://scikit-learn.org/stable/modules/preprocessing.html\n",
      "Please also refer to the documentation for alternative solver options:\n",
      "    https://scikit-learn.org/stable/modules/linear_model.html#logistic-regression\n",
      "  extra_warning_msg=_LOGISTIC_SOLVER_CONVERGENCE_MSG)\n",
      "/Users/flatironschool/Anaconda/anaconda3/lib/python3.7/site-packages/sklearn/linear_model/_logistic.py:940: ConvergenceWarning: lbfgs failed to converge (status=1):\n",
      "STOP: TOTAL NO. of ITERATIONS REACHED LIMIT.\n",
      "\n",
      "Increase the number of iterations (max_iter) or scale the data as shown in:\n",
      "    https://scikit-learn.org/stable/modules/preprocessing.html\n",
      "Please also refer to the documentation for alternative solver options:\n",
      "    https://scikit-learn.org/stable/modules/linear_model.html#logistic-regression\n",
      "  extra_warning_msg=_LOGISTIC_SOLVER_CONVERGENCE_MSG)\n",
      "/Users/flatironschool/Anaconda/anaconda3/lib/python3.7/site-packages/sklearn/linear_model/_logistic.py:940: ConvergenceWarning: lbfgs failed to converge (status=1):\n",
      "STOP: TOTAL NO. of ITERATIONS REACHED LIMIT.\n",
      "\n",
      "Increase the number of iterations (max_iter) or scale the data as shown in:\n",
      "    https://scikit-learn.org/stable/modules/preprocessing.html\n",
      "Please also refer to the documentation for alternative solver options:\n",
      "    https://scikit-learn.org/stable/modules/linear_model.html#logistic-regression\n",
      "  extra_warning_msg=_LOGISTIC_SOLVER_CONVERGENCE_MSG)\n",
      "/Users/flatironschool/Anaconda/anaconda3/lib/python3.7/site-packages/sklearn/linear_model/_logistic.py:940: ConvergenceWarning: lbfgs failed to converge (status=1):\n",
      "STOP: TOTAL NO. of ITERATIONS REACHED LIMIT.\n",
      "\n",
      "Increase the number of iterations (max_iter) or scale the data as shown in:\n",
      "    https://scikit-learn.org/stable/modules/preprocessing.html\n",
      "Please also refer to the documentation for alternative solver options:\n",
      "    https://scikit-learn.org/stable/modules/linear_model.html#logistic-regression\n",
      "  extra_warning_msg=_LOGISTIC_SOLVER_CONVERGENCE_MSG)\n"
     ]
    },
    {
     "data": {
      "text/plain": [
       "[{'num_features': 1, 'score': 0.4998564867967853},\n",
       " {'num_features': 2, 'score': 0.5355912743972445},\n",
       " {'num_features': 3, 'score': 0.6884328358208955},\n",
       " {'num_features': 4, 'score': 0.6884328358208955},\n",
       " {'num_features': 5, 'score': 0.6897244546498278},\n",
       " {'num_features': 6, 'score': 0.7062284730195177},\n",
       " {'num_features': 7, 'score': 0.7042192881745121},\n",
       " {'num_features': 8, 'score': 0.7053673938002296},\n",
       " {'num_features': 9, 'score': 0.7101033295063146},\n",
       " {'num_features': 10, 'score': 0.7082376578645235},\n",
       " {'num_features': 11, 'score': 0.7099598163030999},\n",
       " {'num_features': 12, 'score': 0.7111079219288174},\n",
       " {'num_features': 13, 'score': 0.7112514351320322},\n",
       " {'num_features': 14, 'score': 0.710820895522388},\n",
       " {'num_features': 15, 'score': 0.7116819747416763},\n",
       " {'num_features': 16, 'score': 0.7115384615384616},\n",
       " {'num_features': 17, 'score': 0.7290470723306545},\n",
       " {'num_features': 18, 'score': 0.7304822043628014},\n",
       " {'num_features': 19, 'score': 0.7271814006888634},\n",
       " {'num_features': 20, 'score': 0.7271814006888634},\n",
       " {'num_features': 21, 'score': 0.7271814006888634},\n",
       " {'num_features': 22, 'score': 0.7278989667049368},\n",
       " {'num_features': 23, 'score': 0.7299081515499426},\n",
       " {'num_features': 24, 'score': 0.7284730195177956},\n",
       " {'num_features': 25, 'score': 0.7307692307692307},\n",
       " {'num_features': 26, 'score': 0.7303386911595867},\n",
       " {'num_features': 27, 'score': 0.7307692307692307}]"
      ]
     },
     "execution_count": 133,
     "metadata": {},
     "output_type": "execute_result"
    }
   ],
   "source": [
    "scorecard = []\n",
    "for i in range(1, len(feat_imp)+1):\n",
    "    y = main_df[dep_col]\n",
    "    X = main_df[feat_imp['feature'].iloc[:i].values]\n",
    "\n",
    "    scalar = StandardScaler()\n",
    "    \n",
    "    X_train, X_test, y_train, y_test = train_test_split(X, y, test_size=0.3, random_state=0)\n",
    "\n",
    "    X_train = scalar.fit_transform(X_train)\n",
    "    X_test = scalar.transform(X_test)\n",
    "\n",
    "#     X_train_df = pd.DataFrame(X_train, index=y_train.index, columns=X.columns)\n",
    "#     X_test_df = pd.DataFrame(X_test, index=y_test.index, columns=X.columns)\n",
    "    \n",
    "    os = SMOTE(random_state=0)\n",
    "    columns = X.columns\n",
    "    os_data_X, os_data_y = os.fit_sample(X_train, y_train)\n",
    "    os_data_X = pd.DataFrame(data=os_data_X, columns=columns)\n",
    "    \n",
    "    logreg = LogisticRegression()\n",
    "    logreg.fit(os_data_X, os_data_y)\n",
    "    y_pred = logreg.predict(X_test)\n",
    "    \n",
    "    score = accuracy_score(y_test, y_pred)\n",
    "    \n",
    "    scorecard.append({'num_features': i, 'score': score})\n",
    "    \n",
    "scorecard"
   ]
  },
  {
   "cell_type": "code",
   "execution_count": 137,
   "metadata": {},
   "outputs": [
    {
     "name": "stdout",
     "output_type": "stream",
     "text": [
      "[[1516  536]\n",
      " [1342 3574]]\n",
      "              precision    recall  f1-score   support\n",
      "\n",
      "           0       0.53      0.74      0.62      2052\n",
      "           1       0.87      0.73      0.79      4916\n",
      "\n",
      "    accuracy                           0.73      6968\n",
      "   macro avg       0.70      0.73      0.70      6968\n",
      "weighted avg       0.77      0.73      0.74      6968\n",
      "\n",
      "Accuracy score: 0.7305\n"
     ]
    },
    {
     "data": {
      "image/png": "[encoded data removed]",
      "text/plain": [
       "<Figure size 504x360 with 2 Axes>"
      ]
     },
     "metadata": {
      "needs_background": "light"
     },
     "output_type": "display_data"
    }
   ],
   "source": [
    "y = main_df[dep_col]\n",
    "X = main_df[feat_imp['feature'].iloc[:18].values]\n",
    "\n",
    "scalar = StandardScaler()\n",
    "\n",
    "X_train, X_test, y_train, y_test = train_test_split(X, y, test_size=0.3, random_state=0)\n",
    "\n",
    "X_train = scalar.fit_transform(X_train)\n",
    "X_test = scalar.transform(X_test)\n",
    "\n",
    "# X_train_df = pd.DataFrame(X_train, index=y_train.index, columns=X.columns)\n",
    "# X_test_df = pd.DataFrame(X_test, index=y_test.index, columns=X.columns)\n",
    "\n",
    "os = SMOTE(random_state=0)\n",
    "columns = X.columns\n",
    "os_data_X, os_data_y = os.fit_sample(X_train, y_train)\n",
    "os_data_X = pd.DataFrame(data=os_data_X, columns=columns)\n",
    "\n",
    "logreg = LogisticRegression()\n",
    "logreg.fit(os_data_X, os_data_y)\n",
    "y_pred = logreg.predict(X_test)\n",
    "\n",
    "confusion_reporting(y_test, y_pred)"
   ]
  },
  {
   "cell_type": "code",
   "execution_count": 139,
   "metadata": {},
   "outputs": [
    {
     "data": {
      "image/png": "[encoded data removed]",
      "text/plain": [
       "<Figure size 432x288 with 1 Axes>"
      ]
     },
     "metadata": {
      "needs_background": "light"
     },
     "output_type": "display_data"
    }
   ],
   "source": [
    "logit_roc_auc = roc_auc_score(y_test, logreg.predict(X_test))\n",
    "fpr, tpr, thresholds = roc_curve(y_test, logreg.predict_proba(X_test)[:,1])\n",
    "plt.figure()\n",
    "plt.plot(fpr, tpr, label='Logistic Regression (area = %0.2f)' % logit_roc_auc)\n",
    "plt.plot([0, 1], [0, 1],'r--')\n",
    "plt.xlim([0.0, 1.0])\n",
    "plt.ylim([0.0, 1.05])\n",
    "plt.xlabel('False Positive Rate')\n",
    "plt.ylabel('True Positive Rate')\n",
    "plt.title('Receiver operating characteristic')\n",
    "plt.legend(loc=\"lower right\")\n",
    "plt.savefig('Log_ROC')\n",
    "plt.show()"
   ]
  },
  {
   "cell_type": "code",
   "execution_count": null,
   "metadata": {},
   "outputs": [],
   "source": []
  },
  {
   "cell_type": "code",
   "execution_count": null,
   "metadata": {},
   "outputs": [],
   "source": []
  },
  {
   "cell_type": "code",
   "execution_count": null,
   "metadata": {},
   "outputs": [],
   "source": []
  },
  {
   "cell_type": "code",
   "execution_count": null,
   "metadata": {},
   "outputs": [],
   "source": []
  }
 ],
 "metadata": {
  "kernelspec": {
   "display_name": "Python 3",
   "language": "python",
   "name": "python3"
  },
  "language_info": {
   "codemirror_mode": {
    "name": "ipython",
    "version": 3
   },
   "file_extension": ".py",
   "mimetype": "text/x-python",
   "name": "python",
   "nbconvert_exporter": "python",
   "pygments_lexer": "ipython3",
   "version": "3.7.6"
  }
 },
 "nbformat": 4,
 "nbformat_minor": 4
}
